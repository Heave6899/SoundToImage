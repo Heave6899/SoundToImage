{
 "cells": [
  {
   "cell_type": "code",
   "execution_count": 5,
   "metadata": {},
   "outputs": [],
   "source": [
    "from scipy.io import wavfile\n",
    "import pydub\n",
    "import os\n",
    "import numpy as np\n",
    "from PIL import Image\n",
    "from pydub import AudioSegment\n",
    "from pydub.utils import mediainfo"
   ]
  },
  {
   "cell_type": "code",
   "execution_count": 6,
   "metadata": {},
   "outputs": [
    {
     "data": {
      "text/plain": [
       "{'index': '0',\n",
       " 'codec_name': 'pcm_mulaw',\n",
       " 'codec_long_name': 'PCM mu-law / G.711 mu-law',\n",
       " 'profile': 'unknown',\n",
       " 'codec_type': 'audio',\n",
       " 'codec_time_base': '1/8000',\n",
       " 'codec_tag_string': '[7][0][0][0]',\n",
       " 'codec_tag': '0x0007',\n",
       " 'sample_fmt': 's16',\n",
       " 'sample_rate': '8000',\n",
       " 'channels': '1',\n",
       " 'channel_layout': 'unknown',\n",
       " 'bits_per_sample': '8',\n",
       " 'id': 'N/A',\n",
       " 'r_frame_rate': '0/0',\n",
       " 'avg_frame_rate': '0/0',\n",
       " 'time_base': '1/8000',\n",
       " 'start_pts': 'N/A',\n",
       " 'start_time': 'N/A',\n",
       " 'duration_ts': '5468',\n",
       " 'duration': '0.683500',\n",
       " 'bit_rate': '64678',\n",
       " 'max_bit_rate': 'N/A',\n",
       " 'bits_per_raw_sample': 'N/A',\n",
       " 'nb_frames': 'N/A',\n",
       " 'nb_read_frames': 'N/A',\n",
       " 'nb_read_packets': 'N/A',\n",
       " 'DISPOSITION': {'default': '0',\n",
       "  'dub': '0',\n",
       "  'original': '0',\n",
       "  'comment': '0',\n",
       "  'lyrics': '0',\n",
       "  'karaoke': '0',\n",
       "  'forced': '0',\n",
       "  'hearing_impaired': '0',\n",
       "  'visual_impaired': '0',\n",
       "  'clean_effects': '0',\n",
       "  'attached_pic': '0',\n",
       "  'timed_thumbnails': '0'},\n",
       " 'filename': 'sounddiff/A.wav',\n",
       " 'nb_streams': '1',\n",
       " 'nb_programs': '0',\n",
       " 'format_name': 'wav',\n",
       " 'format_long_name': 'WAV / WAVE (Waveform Audio)',\n",
       " 'size': '5526',\n",
       " 'probe_score': '99'}"
      ]
     },
     "execution_count": 6,
     "metadata": {},
     "output_type": "execute_result"
    }
   ],
   "source": [
    "mediainfo(\"sounddiff/A.wav\")"
   ]
  },
  {
   "cell_type": "code",
   "execution_count": 7,
   "metadata": {},
   "outputs": [
    {
     "data": {
      "text/plain": [
       "{'index': '0',\n",
       " 'codec_name': 'pcm_s16le',\n",
       " 'codec_long_name': 'PCM signed 16-bit little-endian',\n",
       " 'profile': 'unknown',\n",
       " 'codec_type': 'audio',\n",
       " 'codec_time_base': '1/24000',\n",
       " 'codec_tag_string': '[1][0][0][0]',\n",
       " 'codec_tag': '0x0001',\n",
       " 'sample_fmt': 's16',\n",
       " 'sample_rate': '24000',\n",
       " 'channels': '1',\n",
       " 'channel_layout': 'unknown',\n",
       " 'bits_per_sample': '16',\n",
       " 'id': 'N/A',\n",
       " 'r_frame_rate': '0/0',\n",
       " 'avg_frame_rate': '0/0',\n",
       " 'time_base': '1/24000',\n",
       " 'start_pts': 'N/A',\n",
       " 'start_time': 'N/A',\n",
       " 'duration_ts': '35136',\n",
       " 'duration': '1.464000',\n",
       " 'bit_rate': '384240',\n",
       " 'max_bit_rate': 'N/A',\n",
       " 'bits_per_raw_sample': 'N/A',\n",
       " 'nb_frames': 'N/A',\n",
       " 'nb_read_frames': 'N/A',\n",
       " 'nb_read_packets': 'N/A',\n",
       " 'DISPOSITION': {'default': '0',\n",
       "  'dub': '0',\n",
       "  'original': '0',\n",
       "  'comment': '0',\n",
       "  'lyrics': '0',\n",
       "  'karaoke': '0',\n",
       "  'forced': '0',\n",
       "  'hearing_impaired': '0',\n",
       "  'visual_impaired': '0',\n",
       "  'clean_effects': '0',\n",
       "  'attached_pic': '0',\n",
       "  'timed_thumbnails': '0'},\n",
       " 'filename': 'soundwav/a.wav',\n",
       " 'nb_streams': '1',\n",
       " 'nb_programs': '0',\n",
       " 'format_name': 'wav',\n",
       " 'format_long_name': 'WAV / WAVE (Waveform Audio)',\n",
       " 'size': '70316',\n",
       " 'probe_score': '99'}"
      ]
     },
     "execution_count": 7,
     "metadata": {},
     "output_type": "execute_result"
    }
   ],
   "source": [
    "mediainfo(\"soundwav/a.wav\")"
   ]
  },
  {
   "cell_type": "code",
   "execution_count": 3,
   "metadata": {
    "collapsed": true
   },
   "outputs": [
    {
     "ename": "CouldntDecodeError",
     "evalue": "Decoding failed. ffmpeg returned error code: 1\n\nOutput from ffmpeg/avlib:\n\nb\"ffmpeg version 3.4.6-0ubuntu0.18.04.1 Copyright (c) 2000-2019 the FFmpeg developers\\n  built with gcc 7 (Ubuntu 7.3.0-16ubuntu3)\\n  configuration: --prefix=/usr --extra-version=0ubuntu0.18.04.1 --toolchain=hardened --libdir=/usr/lib/x86_64-linux-gnu --incdir=/usr/include/x86_64-linux-gnu --enable-gpl --disable-stripping --enable-avresample --enable-avisynth --enable-gnutls --enable-ladspa --enable-libass --enable-libbluray --enable-libbs2b --enable-libcaca --enable-libcdio --enable-libflite --enable-libfontconfig --enable-libfreetype --enable-libfribidi --enable-libgme --enable-libgsm --enable-libmp3lame --enable-libmysofa --enable-libopenjpeg --enable-libopenmpt --enable-libopus --enable-libpulse --enable-librubberband --enable-librsvg --enable-libshine --enable-libsnappy --enable-libsoxr --enable-libspeex --enable-libssh --enable-libtheora --enable-libtwolame --enable-libvorbis --enable-libvpx --enable-libwavpack --enable-libwebp --enable-libx265 --enable-libxml2 --enable-libxvid --enable-libzmq --enable-libzvbi --enable-omx --enable-openal --enable-opengl --enable-sdl2 --enable-libdc1394 --enable-libdrm --enable-libiec61883 --enable-chromaprint --enable-frei0r --enable-libopencv --enable-libx264 --enable-shared\\n  libavutil      55. 78.100 / 55. 78.100\\n  libavcodec     57.107.100 / 57.107.100\\n  libavformat    57. 83.100 / 57. 83.100\\n  libavdevice    57. 10.100 / 57. 10.100\\n  libavfilter     6.107.100 /  6.107.100\\n  libavresample   3.  7.  0 /  3.  7.  0\\n  libswscale      4.  8.100 /  4.  8.100\\n  libswresample   2.  9.100 /  2.  9.100\\n  libpostproc    54.  7.100 / 54.  7.100\\nGuessed Channel Layout for Input Stream #0.0 : mono\\nInput #0, wav, from 'sounddiff/A.wav':\\n  Duration: 00:00:00.68, bitrate: 64 kb/s\\n    Stream #0:0: Audio: pcm_mulaw ([7][0][0][0] / 0x0007), 8000 Hz, mono, s16, 64 kb/s\\nStream mapping:\\n  Stream #0:0 -> #0:0 (pcm_mulaw (native) -> pcm_s8 (native))\\nPress [q] to stop, [?] for help\\n[wav @ 0x557165af0180] pcm_s8 codec not supported in WAVE format\\nCould not write header for output file #0 (incorrect codec parameters ?): Function not implemented\\nError initializing output stream 0:0 -- \\nConversion failed!\\n\"",
     "output_type": "error",
     "traceback": [
      "\u001b[0;31m---------------------------------------------------------------------------\u001b[0m",
      "\u001b[0;31mCouldntDecodeError\u001b[0m                        Traceback (most recent call last)",
      "\u001b[0;32m<ipython-input-3-5b2ce8c4b5b7>\u001b[0m in \u001b[0;36m<module>\u001b[0;34m\u001b[0m\n\u001b[1;32m     10\u001b[0m     \u001b[0;31m#sound = pydub.AudioSegment.from_wav(strtarget)\u001b[0m\u001b[0;34m\u001b[0m\u001b[0;34m\u001b[0m\u001b[0;34m\u001b[0m\u001b[0m\n\u001b[1;32m     11\u001b[0m     \u001b[0;31m#sound.export(strdest, format=\"wav\")\u001b[0m\u001b[0;34m\u001b[0m\u001b[0;34m\u001b[0m\u001b[0;34m\u001b[0m\u001b[0m\n\u001b[0;32m---> 12\u001b[0;31m     \u001b[0mAudioSegment\u001b[0m\u001b[0;34m.\u001b[0m\u001b[0mfrom_wav\u001b[0m\u001b[0;34m(\u001b[0m\u001b[0mstrtarget\u001b[0m\u001b[0;34m)\u001b[0m\u001b[0;34m.\u001b[0m\u001b[0mexport\u001b[0m\u001b[0;34m(\u001b[0m\u001b[0mstrdest\u001b[0m\u001b[0;34m,\u001b[0m \u001b[0mformat\u001b[0m\u001b[0;34m=\u001b[0m\u001b[0;34m\"mp3\"\u001b[0m\u001b[0;34m)\u001b[0m\u001b[0;34m\u001b[0m\u001b[0;34m\u001b[0m\u001b[0m\n\u001b[0m",
      "\u001b[0;32m~/venv/lib/python3.6/site-packages/pydub/audio_segment.py\u001b[0m in \u001b[0;36mfrom_wav\u001b[0;34m(cls, file, parameters)\u001b[0m\n\u001b[1;32m    726\u001b[0m     \u001b[0;34m@\u001b[0m\u001b[0mclassmethod\u001b[0m\u001b[0;34m\u001b[0m\u001b[0;34m\u001b[0m\u001b[0m\n\u001b[1;32m    727\u001b[0m     \u001b[0;32mdef\u001b[0m \u001b[0mfrom_wav\u001b[0m\u001b[0;34m(\u001b[0m\u001b[0mcls\u001b[0m\u001b[0;34m,\u001b[0m \u001b[0mfile\u001b[0m\u001b[0;34m,\u001b[0m \u001b[0mparameters\u001b[0m\u001b[0;34m=\u001b[0m\u001b[0;32mNone\u001b[0m\u001b[0;34m)\u001b[0m\u001b[0;34m:\u001b[0m\u001b[0;34m\u001b[0m\u001b[0;34m\u001b[0m\u001b[0m\n\u001b[0;32m--> 728\u001b[0;31m         \u001b[0;32mreturn\u001b[0m \u001b[0mcls\u001b[0m\u001b[0;34m.\u001b[0m\u001b[0mfrom_file\u001b[0m\u001b[0;34m(\u001b[0m\u001b[0mfile\u001b[0m\u001b[0;34m,\u001b[0m \u001b[0;34m'wav'\u001b[0m\u001b[0;34m,\u001b[0m \u001b[0mparameters\u001b[0m\u001b[0;34m=\u001b[0m\u001b[0mparameters\u001b[0m\u001b[0;34m)\u001b[0m\u001b[0;34m\u001b[0m\u001b[0;34m\u001b[0m\u001b[0m\n\u001b[0m\u001b[1;32m    729\u001b[0m \u001b[0;34m\u001b[0m\u001b[0m\n\u001b[1;32m    730\u001b[0m     \u001b[0;34m@\u001b[0m\u001b[0mclassmethod\u001b[0m\u001b[0;34m\u001b[0m\u001b[0;34m\u001b[0m\u001b[0m\n",
      "\u001b[0;32m~/venv/lib/python3.6/site-packages/pydub/audio_segment.py\u001b[0m in \u001b[0;36mfrom_file\u001b[0;34m(cls, file, format, codec, parameters, **kwargs)\u001b[0m\n\u001b[1;32m    702\u001b[0m             raise CouldntDecodeError(\n\u001b[1;32m    703\u001b[0m                 \"Decoding failed. ffmpeg returned error code: {0}\\n\\nOutput from ffmpeg/avlib:\\n\\n{1}\".format(\n\u001b[0;32m--> 704\u001b[0;31m                     p.returncode, p_err))\n\u001b[0m\u001b[1;32m    705\u001b[0m \u001b[0;34m\u001b[0m\u001b[0m\n\u001b[1;32m    706\u001b[0m         \u001b[0mp_out\u001b[0m \u001b[0;34m=\u001b[0m \u001b[0mbytearray\u001b[0m\u001b[0;34m(\u001b[0m\u001b[0mp_out\u001b[0m\u001b[0;34m)\u001b[0m\u001b[0;34m\u001b[0m\u001b[0;34m\u001b[0m\u001b[0m\n",
      "\u001b[0;31mCouldntDecodeError\u001b[0m: Decoding failed. ffmpeg returned error code: 1\n\nOutput from ffmpeg/avlib:\n\nb\"ffmpeg version 3.4.6-0ubuntu0.18.04.1 Copyright (c) 2000-2019 the FFmpeg developers\\n  built with gcc 7 (Ubuntu 7.3.0-16ubuntu3)\\n  configuration: --prefix=/usr --extra-version=0ubuntu0.18.04.1 --toolchain=hardened --libdir=/usr/lib/x86_64-linux-gnu --incdir=/usr/include/x86_64-linux-gnu --enable-gpl --disable-stripping --enable-avresample --enable-avisynth --enable-gnutls --enable-ladspa --enable-libass --enable-libbluray --enable-libbs2b --enable-libcaca --enable-libcdio --enable-libflite --enable-libfontconfig --enable-libfreetype --enable-libfribidi --enable-libgme --enable-libgsm --enable-libmp3lame --enable-libmysofa --enable-libopenjpeg --enable-libopenmpt --enable-libopus --enable-libpulse --enable-librubberband --enable-librsvg --enable-libshine --enable-libsnappy --enable-libsoxr --enable-libspeex --enable-libssh --enable-libtheora --enable-libtwolame --enable-libvorbis --enable-libvpx --enable-libwavpack --enable-libwebp --enable-libx265 --enable-libxml2 --enable-libxvid --enable-libzmq --enable-libzvbi --enable-omx --enable-openal --enable-opengl --enable-sdl2 --enable-libdc1394 --enable-libdrm --enable-libiec61883 --enable-chromaprint --enable-frei0r --enable-libopencv --enable-libx264 --enable-shared\\n  libavutil      55. 78.100 / 55. 78.100\\n  libavcodec     57.107.100 / 57.107.100\\n  libavformat    57. 83.100 / 57. 83.100\\n  libavdevice    57. 10.100 / 57. 10.100\\n  libavfilter     6.107.100 /  6.107.100\\n  libavresample   3.  7.  0 /  3.  7.  0\\n  libswscale      4.  8.100 /  4.  8.100\\n  libswresample   2.  9.100 /  2.  9.100\\n  libpostproc    54.  7.100 / 54.  7.100\\nGuessed Channel Layout for Input Stream #0.0 : mono\\nInput #0, wav, from 'sounddiff/A.wav':\\n  Duration: 00:00:00.68, bitrate: 64 kb/s\\n    Stream #0:0: Audio: pcm_mulaw ([7][0][0][0] / 0x0007), 8000 Hz, mono, s16, 64 kb/s\\nStream mapping:\\n  Stream #0:0 -> #0:0 (pcm_mulaw (native) -> pcm_s8 (native))\\nPress [q] to stop, [?] for help\\n[wav @ 0x557165af0180] pcm_s8 codec not supported in WAVE format\\nCould not write header for output file #0 (incorrect codec parameters ?): Function not implemented\\nError initializing output stream 0:0 -- \\nConversion failed!\\n\""
     ]
    }
   ],
   "source": [
    "#for i in range(11): \n",
    "#    strtarget = \"sounds/\" + str(i) + \".mp3\"\n",
    "#    strdest = \"soundwav/\" + str(i) + \".wav\"\n",
    "#    sound = pydub.AudioSegment.from_mp3(strtarget)\n",
    "#    sound.export(strdest, format=\"wav\")\n",
    "for i in range(65,91):\n",
    "    char = chr(i)\n",
    "    strtarget = \"sounddiff/\" + char + \".wav\"\n",
    "    strdest = \"soundwav/\" + char + \".mp3\"\n",
    "    #sound = pydub.AudioSegment.from_wav(strtarget)\n",
    "    #sound.export(strdest, format=\"wav\")\n",
    "    AudioSegment.from_wav(strtarget).export(strdest, format=\"mp3\")"
   ]
  },
  {
   "cell_type": "code",
   "execution_count": 97,
   "metadata": {
    "collapsed": true
   },
   "outputs": [
    {
     "ename": "ValueError",
     "evalue": "Unknown wave file format",
     "output_type": "error",
     "traceback": [
      "\u001b[0;31m---------------------------------------------------------------------------\u001b[0m",
      "\u001b[0;31mValueError\u001b[0m                                Traceback (most recent call last)",
      "\u001b[0;32m<ipython-input-97-7208a411a449>\u001b[0m in \u001b[0;36m<module>\u001b[0;34m\u001b[0m\n\u001b[0;32m----> 1\u001b[0;31m \u001b[0mfs\u001b[0m\u001b[0;34m,\u001b[0m \u001b[0mdata\u001b[0m \u001b[0;34m=\u001b[0m \u001b[0mwavfile\u001b[0m\u001b[0;34m.\u001b[0m\u001b[0mread\u001b[0m\u001b[0;34m(\u001b[0m\u001b[0;34m'sounddiff/N.wav'\u001b[0m\u001b[0;34m)\u001b[0m\u001b[0;34m\u001b[0m\u001b[0;34m\u001b[0m\u001b[0m\n\u001b[0m\u001b[1;32m      2\u001b[0m \u001b[0mlen\u001b[0m\u001b[0;34m(\u001b[0m\u001b[0mdata\u001b[0m\u001b[0;34m)\u001b[0m\u001b[0;34m\u001b[0m\u001b[0;34m\u001b[0m\u001b[0m\n",
      "\u001b[0;32m~/venv/lib/python3.6/site-packages/scipy/io/wavfile.py\u001b[0m in \u001b[0;36mread\u001b[0;34m(filename, mmap)\u001b[0m\n\u001b[1;32m    250\u001b[0m             \u001b[0;32mif\u001b[0m \u001b[0mchunk_id\u001b[0m \u001b[0;34m==\u001b[0m \u001b[0;34mb'fmt '\u001b[0m\u001b[0;34m:\u001b[0m\u001b[0;34m\u001b[0m\u001b[0;34m\u001b[0m\u001b[0m\n\u001b[1;32m    251\u001b[0m                 \u001b[0mfmt_chunk_received\u001b[0m \u001b[0;34m=\u001b[0m \u001b[0;32mTrue\u001b[0m\u001b[0;34m\u001b[0m\u001b[0;34m\u001b[0m\u001b[0m\n\u001b[0;32m--> 252\u001b[0;31m                 \u001b[0mfmt_chunk\u001b[0m \u001b[0;34m=\u001b[0m \u001b[0m_read_fmt_chunk\u001b[0m\u001b[0;34m(\u001b[0m\u001b[0mfid\u001b[0m\u001b[0;34m,\u001b[0m \u001b[0mis_big_endian\u001b[0m\u001b[0;34m)\u001b[0m\u001b[0;34m\u001b[0m\u001b[0;34m\u001b[0m\u001b[0m\n\u001b[0m\u001b[1;32m    253\u001b[0m                 \u001b[0mformat_tag\u001b[0m\u001b[0;34m,\u001b[0m \u001b[0mchannels\u001b[0m\u001b[0;34m,\u001b[0m \u001b[0mfs\u001b[0m \u001b[0;34m=\u001b[0m \u001b[0mfmt_chunk\u001b[0m\u001b[0;34m[\u001b[0m\u001b[0;36m1\u001b[0m\u001b[0;34m:\u001b[0m\u001b[0;36m4\u001b[0m\u001b[0;34m]\u001b[0m\u001b[0;34m\u001b[0m\u001b[0;34m\u001b[0m\u001b[0m\n\u001b[1;32m    254\u001b[0m                 \u001b[0mbit_depth\u001b[0m \u001b[0;34m=\u001b[0m \u001b[0mfmt_chunk\u001b[0m\u001b[0;34m[\u001b[0m\u001b[0;36m6\u001b[0m\u001b[0;34m]\u001b[0m\u001b[0;34m\u001b[0m\u001b[0;34m\u001b[0m\u001b[0m\n",
      "\u001b[0;32m~/venv/lib/python3.6/site-packages/scipy/io/wavfile.py\u001b[0m in \u001b[0;36m_read_fmt_chunk\u001b[0;34m(fid, is_big_endian)\u001b[0m\n\u001b[1;32m     92\u001b[0m \u001b[0;34m\u001b[0m\u001b[0m\n\u001b[1;32m     93\u001b[0m     \u001b[0;32mif\u001b[0m \u001b[0mformat_tag\u001b[0m \u001b[0;32mnot\u001b[0m \u001b[0;32min\u001b[0m \u001b[0mKNOWN_WAVE_FORMATS\u001b[0m\u001b[0;34m:\u001b[0m\u001b[0;34m\u001b[0m\u001b[0;34m\u001b[0m\u001b[0m\n\u001b[0;32m---> 94\u001b[0;31m         \u001b[0;32mraise\u001b[0m \u001b[0mValueError\u001b[0m\u001b[0;34m(\u001b[0m\u001b[0;34m\"Unknown wave file format\"\u001b[0m\u001b[0;34m)\u001b[0m\u001b[0;34m\u001b[0m\u001b[0;34m\u001b[0m\u001b[0m\n\u001b[0m\u001b[1;32m     95\u001b[0m \u001b[0;34m\u001b[0m\u001b[0m\n\u001b[1;32m     96\u001b[0m     \u001b[0;31m# move file pointer to next chunk\u001b[0m\u001b[0;34m\u001b[0m\u001b[0;34m\u001b[0m\u001b[0;34m\u001b[0m\u001b[0m\n",
      "\u001b[0;31mValueError\u001b[0m: Unknown wave file format"
     ]
    }
   ],
   "source": [
    "fs, data = wavfile.read('sounddiff/N.wav')\n",
    "len(data)\n"
   ]
  },
  {
   "cell_type": "code",
   "execution_count": 89,
   "metadata": {},
   "outputs": [],
   "source": [
    "#to convert numbers\n",
    "for k in range(11):\n",
    "    string = \"soundwav/\" + str(k) + \".wav\"\n",
    "    stringdest = \"img/\" + str(k) + \".png\"\n",
    "    fs, data = wavfile.read(string)\n",
    "    length = len(data)\n",
    "    h = int(length/48)\n",
    "    a = np.array([])\n",
    "    for i in data:\n",
    "        if i>=0:\n",
    "            if i>255:\n",
    "                x = i\n",
    "                a = np.append(a,255)\n",
    "                x/=255\n",
    "                if x>255:\n",
    "                    a = np.append(a,255)\n",
    "                    x/=255\n",
    "                    a = np.append(a,int(x))\n",
    "                else:\n",
    "                    a = np.append(a,[int(x),0])\n",
    "            else:\n",
    "                a = np.append(a,[int(i),0,0])\n",
    "        else:\n",
    "            x = 16581375 + i\n",
    "            if x>255:\n",
    "                a = np.append(a,255)\n",
    "                x/=255\n",
    "                if x>255:\n",
    "                    a = np.append(a,255)\n",
    "                    x/=255\n",
    "                    a = np.append(a,int(x))\n",
    "                else:\n",
    "                    a = np.append(a,[int(x),0])\n",
    "            else:\n",
    "                a = np.append(a,[int(i),0,0])\n",
    "    len(a)\n",
    "    a.shape = (h,48,3)\n",
    "    a\n",
    "    img = Image.fromarray(a,'RGB')\n",
    "    img.save(stringdest)"
   ]
  },
  {
   "cell_type": "code",
   "execution_count": 91,
   "metadata": {
    "collapsed": true
   },
   "outputs": [
    {
     "ename": "ValueError",
     "evalue": "Unknown wave file format",
     "output_type": "error",
     "traceback": [
      "\u001b[0;31m---------------------------------------------------------------------------\u001b[0m",
      "\u001b[0;31mValueError\u001b[0m                                Traceback (most recent call last)",
      "\u001b[0;32m<ipython-input-91-28d25187e4b8>\u001b[0m in \u001b[0;36m<module>\u001b[0;34m\u001b[0m\n\u001b[1;32m      4\u001b[0m     \u001b[0mstring\u001b[0m \u001b[0;34m=\u001b[0m \u001b[0;34m\"sounddiff/\"\u001b[0m \u001b[0;34m+\u001b[0m \u001b[0mchr\u001b[0m\u001b[0;34m(\u001b[0m\u001b[0mk\u001b[0m\u001b[0;34m)\u001b[0m \u001b[0;34m+\u001b[0m \u001b[0;34m\".wav\"\u001b[0m\u001b[0;34m\u001b[0m\u001b[0;34m\u001b[0m\u001b[0m\n\u001b[1;32m      5\u001b[0m     \u001b[0mstringdest\u001b[0m \u001b[0;34m=\u001b[0m \u001b[0;34m\"img/\"\u001b[0m \u001b[0;34m+\u001b[0m \u001b[0mchr\u001b[0m\u001b[0;34m(\u001b[0m\u001b[0mk\u001b[0m\u001b[0;34m)\u001b[0m \u001b[0;34m+\u001b[0m \u001b[0;34m\".png\"\u001b[0m\u001b[0;34m\u001b[0m\u001b[0;34m\u001b[0m\u001b[0m\n\u001b[0;32m----> 6\u001b[0;31m     \u001b[0mfs\u001b[0m\u001b[0;34m,\u001b[0m \u001b[0mdata\u001b[0m \u001b[0;34m=\u001b[0m \u001b[0mwavfile\u001b[0m\u001b[0;34m.\u001b[0m\u001b[0mread\u001b[0m\u001b[0;34m(\u001b[0m\u001b[0mstring\u001b[0m\u001b[0;34m)\u001b[0m\u001b[0;34m\u001b[0m\u001b[0;34m\u001b[0m\u001b[0m\n\u001b[0m\u001b[1;32m      7\u001b[0m     \u001b[0mlength\u001b[0m \u001b[0;34m=\u001b[0m \u001b[0mlen\u001b[0m\u001b[0;34m(\u001b[0m\u001b[0mdata\u001b[0m\u001b[0;34m)\u001b[0m\u001b[0;34m\u001b[0m\u001b[0;34m\u001b[0m\u001b[0m\n\u001b[1;32m      8\u001b[0m     \u001b[0mh\u001b[0m \u001b[0;34m=\u001b[0m \u001b[0mint\u001b[0m\u001b[0;34m(\u001b[0m\u001b[0mlength\u001b[0m\u001b[0;34m/\u001b[0m\u001b[0;36m48\u001b[0m\u001b[0;34m)\u001b[0m\u001b[0;34m\u001b[0m\u001b[0;34m\u001b[0m\u001b[0m\n",
      "\u001b[0;32m~/venv/lib/python3.6/site-packages/scipy/io/wavfile.py\u001b[0m in \u001b[0;36mread\u001b[0;34m(filename, mmap)\u001b[0m\n\u001b[1;32m    250\u001b[0m             \u001b[0;32mif\u001b[0m \u001b[0mchunk_id\u001b[0m \u001b[0;34m==\u001b[0m \u001b[0;34mb'fmt '\u001b[0m\u001b[0;34m:\u001b[0m\u001b[0;34m\u001b[0m\u001b[0;34m\u001b[0m\u001b[0m\n\u001b[1;32m    251\u001b[0m                 \u001b[0mfmt_chunk_received\u001b[0m \u001b[0;34m=\u001b[0m \u001b[0;32mTrue\u001b[0m\u001b[0;34m\u001b[0m\u001b[0;34m\u001b[0m\u001b[0m\n\u001b[0;32m--> 252\u001b[0;31m                 \u001b[0mfmt_chunk\u001b[0m \u001b[0;34m=\u001b[0m \u001b[0m_read_fmt_chunk\u001b[0m\u001b[0;34m(\u001b[0m\u001b[0mfid\u001b[0m\u001b[0;34m,\u001b[0m \u001b[0mis_big_endian\u001b[0m\u001b[0;34m)\u001b[0m\u001b[0;34m\u001b[0m\u001b[0;34m\u001b[0m\u001b[0m\n\u001b[0m\u001b[1;32m    253\u001b[0m                 \u001b[0mformat_tag\u001b[0m\u001b[0;34m,\u001b[0m \u001b[0mchannels\u001b[0m\u001b[0;34m,\u001b[0m \u001b[0mfs\u001b[0m \u001b[0;34m=\u001b[0m \u001b[0mfmt_chunk\u001b[0m\u001b[0;34m[\u001b[0m\u001b[0;36m1\u001b[0m\u001b[0;34m:\u001b[0m\u001b[0;36m4\u001b[0m\u001b[0;34m]\u001b[0m\u001b[0;34m\u001b[0m\u001b[0;34m\u001b[0m\u001b[0m\n\u001b[1;32m    254\u001b[0m                 \u001b[0mbit_depth\u001b[0m \u001b[0;34m=\u001b[0m \u001b[0mfmt_chunk\u001b[0m\u001b[0;34m[\u001b[0m\u001b[0;36m6\u001b[0m\u001b[0;34m]\u001b[0m\u001b[0;34m\u001b[0m\u001b[0;34m\u001b[0m\u001b[0m\n",
      "\u001b[0;32m~/venv/lib/python3.6/site-packages/scipy/io/wavfile.py\u001b[0m in \u001b[0;36m_read_fmt_chunk\u001b[0;34m(fid, is_big_endian)\u001b[0m\n\u001b[1;32m     92\u001b[0m \u001b[0;34m\u001b[0m\u001b[0m\n\u001b[1;32m     93\u001b[0m     \u001b[0;32mif\u001b[0m \u001b[0mformat_tag\u001b[0m \u001b[0;32mnot\u001b[0m \u001b[0;32min\u001b[0m \u001b[0mKNOWN_WAVE_FORMATS\u001b[0m\u001b[0;34m:\u001b[0m\u001b[0;34m\u001b[0m\u001b[0;34m\u001b[0m\u001b[0m\n\u001b[0;32m---> 94\u001b[0;31m         \u001b[0;32mraise\u001b[0m \u001b[0mValueError\u001b[0m\u001b[0;34m(\u001b[0m\u001b[0;34m\"Unknown wave file format\"\u001b[0m\u001b[0;34m)\u001b[0m\u001b[0;34m\u001b[0m\u001b[0;34m\u001b[0m\u001b[0m\n\u001b[0m\u001b[1;32m     95\u001b[0m \u001b[0;34m\u001b[0m\u001b[0m\n\u001b[1;32m     96\u001b[0m     \u001b[0;31m# move file pointer to next chunk\u001b[0m\u001b[0;34m\u001b[0m\u001b[0;34m\u001b[0m\u001b[0;34m\u001b[0m\u001b[0m\n",
      "\u001b[0;31mValueError\u001b[0m: Unknown wave file format"
     ]
    }
   ],
   "source": [
    "#to convert alphabets\n",
    "#for k in range(97,123):\n",
    "for k in range(65,91):\n",
    "    string = \"sounddiff/\" + chr(k) + \".wav\"\n",
    "    stringdest = \"img/\" + chr(k) + \".png\"\n",
    "    fs, data = wavfile.read(string)\n",
    "    length = len(data)\n",
    "    h = int(length/48)\n",
    "    a = np.array([])\n",
    "    for i in data:\n",
    "        if i>=0:\n",
    "            if i>255:\n",
    "                x = i\n",
    "                a = np.append(a,255)\n",
    "                x/=255\n",
    "                if x>255:\n",
    "                    a = np.append(a,255)\n",
    "                    x/=255\n",
    "                    a = np.append(a,int(x))\n",
    "                else:\n",
    "                    a = np.append(a,[int(x),0])\n",
    "            else:\n",
    "                a = np.append(a,[int(i),0,0])\n",
    "        else:\n",
    "            x = 16581375 + i\n",
    "            if x>255:\n",
    "                a = np.append(a,255)\n",
    "                x/=255\n",
    "                if x>255:\n",
    "                    a = np.append(a,255)\n",
    "                    x/=255\n",
    "                    a = np.append(a,int(x))\n",
    "                else:\n",
    "                    a = np.append(a,[int(x),0])\n",
    "            else:\n",
    "                a = np.append(a,[int(i),0,0])\n",
    "    len(a)\n",
    "    a.shape = (h,48,3)\n",
    "    a\n",
    "    img = Image.fromarray(a,'RGB')\n",
    "    img.save(stringdest)"
   ]
  },
  {
   "cell_type": "code",
   "execution_count": 5,
   "metadata": {},
   "outputs": [],
   "source": [
    "def numpy2pil(np_array: np.ndarray) -> Image:\n",
    "    \"\"\"\n",
    "    Convert an HxWx3 numpy array into an RGB Image\n",
    "    \"\"\"\n",
    "\n",
    "    assert_msg = 'Input shall be a HxWx3 ndarray'\n",
    "    assert isinstance(np_array, np.ndarray), assert_msg\n",
    "    assert len(np_array.shape) == 3, assert_msg\n",
    "    assert np_array.shape[2] == 3, assert_msg\n",
    "\n",
    "    img = Image.fromarray(np_array, 'RGB')\n",
    "    return img"
   ]
  },
  {
   "cell_type": "code",
   "execution_count": 76,
   "metadata": {},
   "outputs": [],
   "source": [
    "img = Image.fromarray(a,'RGB')\n",
    "img.save('img/i.png')"
   ]
  }
 ],
 "metadata": {
  "kernelspec": {
   "display_name": "Python 3",
   "language": "python",
   "name": "python3"
  },
  "language_info": {
   "codemirror_mode": {
    "name": "ipython",
    "version": 3
   },
   "file_extension": ".py",
   "mimetype": "text/x-python",
   "name": "python",
   "nbconvert_exporter": "python",
   "pygments_lexer": "ipython3",
   "version": "3.6.7"
  }
 },
 "nbformat": 4,
 "nbformat_minor": 2
}
